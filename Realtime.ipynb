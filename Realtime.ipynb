{
 "cells": [
  {
   "cell_type": "code",
   "execution_count": 1,
   "metadata": {},
   "outputs": [
    {
     "name": "stdout",
     "output_type": "stream",
     "text": [
      "Found existing installation: serial 0.0.97\n",
      "Uninstalling serial-0.0.97:\n",
      "  Successfully uninstalled serial-0.0.97\n",
      "Collecting pyserial\n",
      "  Using cached pyserial-3.4-py2.py3-none-any.whl (193 kB)\n",
      "Installing collected packages: pyserial\n",
      "Successfully installed pyserial-3.4\n"
     ]
    }
   ],
   "source": [
    "#Install a pip package in the current Jupyter kernel\n",
    "import sys\n",
    "!{sys.executable} -m pip uninstall -y serial\n",
    "!{sys.executable} -m pip install pyserial"
   ]
  },
  {
   "cell_type": "code",
   "execution_count": null,
   "metadata": {},
   "outputs": [
    {
     "data": {
      "image/png": "[encoded data removed]",
      "text/plain": [
       "<Figure size 504x360 with 1 Axes>"
      ]
     },
     "metadata": {
      "needs_background": "light"
     },
     "output_type": "display_data"
    }
   ],
   "source": [
    "import mindwave, time\n",
    "import pylab as pl\n",
    "from IPython import display\n",
    "from IPython.display import clear_output\n",
    "from matplotlib import pyplot as plt\n",
    "import collections\n",
    "import numpy as np\n",
    "%matplotlib inline\n",
    "\n",
    "\n",
    "def live_plot(data_dict, figsize=(7,5), title=''):\n",
    "    clear_output(wait=True)\n",
    "    plt.figure(figsize=figsize)\n",
    "    for label,data in data_dict.items():\n",
    "        plt.plot(data, label=label)\n",
    "    plt.title(title)\n",
    "    plt.grid(True)\n",
    "    plt.xlabel('epoch')\n",
    "    plt.legend(loc='center left') # the plot evolves to the right\n",
    "    plt.show();\n",
    "\n",
    "\n",
    "headset = mindwave.Headset('/dev/tty.MindWaveMobile-DevA')\n",
    "time.sleep(2)\n",
    "\n",
    "data = collections.defaultdict(list)\n",
    "while True:\n",
    "    # Meditation, Attention, delta, theta, low-alpha, high-alpha, low-beta, high-beta, low-gamma, mid-gamma\n",
    "#    data['attention'].append(headset.attention)\n",
    "#    data['meditation'].append(headset.meditation)\n",
    "#    data['delta'].append(headset.meditation)\n",
    "#    data['theta'].append(headset.meditation)\n",
    "#    data['low-alpha'].append(headset.meditation)\n",
    "#    data['high-alpha'].append(headset.meditation)\n",
    "#    data['low-beta'].append(headset.meditation)\n",
    "    data['high-beta'].append(headset.meditation)\n",
    "#    data['low-gamma'].append(headset.meditation)\n",
    "#    data['mid-gamma'].append(headset.meditation)\n",
    "    live_plot(data)    \n",
    "    \n",
    "#while True:\n",
    "#    print (\"Raw value: %s, Attention: %s, Meditation: %s\" % (headset.raw_value, headset.attention, headset.meditation))\n",
    "#    print (\"Waves: {}\".format(headset.waves))\n",
    "    \n"
   ]
  }
 ],
 "metadata": {
  "kernelspec": {
   "display_name": "Python 3",
   "language": "python",
   "name": "python3"
  },
  "language_info": {
   "codemirror_mode": {
    "name": "ipython",
    "version": 3
   },
   "file_extension": ".py",
   "mimetype": "text/x-python",
   "name": "python",
   "nbconvert_exporter": "python",
   "pygments_lexer": "ipython3",
   "version": "3.7.7"
  }
 },
 "nbformat": 4,
 "nbformat_minor": 4
}
